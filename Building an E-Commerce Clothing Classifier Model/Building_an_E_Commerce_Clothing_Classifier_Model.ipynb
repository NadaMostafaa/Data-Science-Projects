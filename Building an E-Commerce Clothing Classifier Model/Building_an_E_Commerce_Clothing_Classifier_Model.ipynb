{
  "nbformat": 4,
  "nbformat_minor": 0,
  "metadata": {
    "colab": {
      "provenance": []
    },
    "kernelspec": {
      "name": "python3",
      "display_name": "Python 3"
    },
    "language_info": {
      "name": "python"
    }
  },
  "cells": [
    {
      "cell_type": "code",
      "execution_count": 1,
      "metadata": {
        "colab": {
          "base_uri": "https://localhost:8080/"
        },
        "id": "gpQ4s9BlTvE6",
        "outputId": "8617171a-c2d0-4242-b5c4-6c9116223689"
      },
      "outputs": [
        {
          "output_type": "stream",
          "name": "stdout",
          "text": [
            "Collecting torchmetrics\n",
            "  Downloading torchmetrics-1.5.0-py3-none-any.whl.metadata (20 kB)\n",
            "Requirement already satisfied: numpy<2.0,>1.20.0 in /usr/local/lib/python3.10/dist-packages (from torchmetrics) (1.26.4)\n",
            "Requirement already satisfied: packaging>17.1 in /usr/local/lib/python3.10/dist-packages (from torchmetrics) (24.1)\n",
            "Requirement already satisfied: torch>=1.10.0 in /usr/local/lib/python3.10/dist-packages (from torchmetrics) (2.4.1+cu121)\n",
            "Collecting lightning-utilities>=0.8.0 (from torchmetrics)\n",
            "  Downloading lightning_utilities-0.11.8-py3-none-any.whl.metadata (5.2 kB)\n",
            "Requirement already satisfied: setuptools in /usr/local/lib/python3.10/dist-packages (from lightning-utilities>=0.8.0->torchmetrics) (75.1.0)\n",
            "Requirement already satisfied: typing-extensions in /usr/local/lib/python3.10/dist-packages (from lightning-utilities>=0.8.0->torchmetrics) (4.12.2)\n",
            "Requirement already satisfied: filelock in /usr/local/lib/python3.10/dist-packages (from torch>=1.10.0->torchmetrics) (3.16.1)\n",
            "Requirement already satisfied: sympy in /usr/local/lib/python3.10/dist-packages (from torch>=1.10.0->torchmetrics) (1.13.3)\n",
            "Requirement already satisfied: networkx in /usr/local/lib/python3.10/dist-packages (from torch>=1.10.0->torchmetrics) (3.4.1)\n",
            "Requirement already satisfied: jinja2 in /usr/local/lib/python3.10/dist-packages (from torch>=1.10.0->torchmetrics) (3.1.4)\n",
            "Requirement already satisfied: fsspec in /usr/local/lib/python3.10/dist-packages (from torch>=1.10.0->torchmetrics) (2024.6.1)\n",
            "Requirement already satisfied: MarkupSafe>=2.0 in /usr/local/lib/python3.10/dist-packages (from jinja2->torch>=1.10.0->torchmetrics) (3.0.1)\n",
            "Requirement already satisfied: mpmath<1.4,>=1.1.0 in /usr/local/lib/python3.10/dist-packages (from sympy->torch>=1.10.0->torchmetrics) (1.3.0)\n",
            "Downloading torchmetrics-1.5.0-py3-none-any.whl (890 kB)\n",
            "\u001b[2K   \u001b[90m━━━━━━━━━━━━━━━━━━━━━━━━━━━━━━━━━━━━━━━━\u001b[0m \u001b[32m890.5/890.5 kB\u001b[0m \u001b[31m11.1 MB/s\u001b[0m eta \u001b[36m0:00:00\u001b[0m\n",
            "\u001b[?25hDownloading lightning_utilities-0.11.8-py3-none-any.whl (26 kB)\n",
            "Installing collected packages: lightning-utilities, torchmetrics\n",
            "Successfully installed lightning-utilities-0.11.8 torchmetrics-1.5.0\n"
          ]
        }
      ],
      "source": [
        "!pip install torchmetrics\n",
        "import numpy as np\n",
        "import torch\n",
        "import torch.nn as nn\n",
        "import torch.optim as optim\n",
        "from torch.utils.data import Dataset, DataLoader\n",
        "from torchmetrics import Accuracy, Precision, Recall"
      ]
    },
    {
      "cell_type": "code",
      "source": [
        "# Load datasets\n",
        "from torchvision import datasets\n",
        "import torchvision.transforms as transforms\n",
        "\n",
        "train_data = datasets.FashionMNIST(root='./data', train=True, download=True, transform=transforms.ToTensor())\n",
        "test_data = datasets.FashionMNIST(root='./data', train=False, download=True, transform=transforms.ToTensor())\n",
        "import torch\n",
        "import torch.nn as nn\n",
        "import torch.optim as optim\n",
        "from torch.utils.data import Dataset, DataLoader\n",
        "from torchmetrics import Accuracy, Precision, Recall\n"
      ],
      "metadata": {
        "colab": {
          "base_uri": "https://localhost:8080/"
        },
        "id": "4qKp2BK8UBAC",
        "outputId": "a18c80ca-8c24-4088-b7d1-8942a1ef8087"
      },
      "execution_count": 2,
      "outputs": [
        {
          "output_type": "stream",
          "name": "stdout",
          "text": [
            "Downloading http://fashion-mnist.s3-website.eu-central-1.amazonaws.com/train-images-idx3-ubyte.gz\n",
            "Downloading http://fashion-mnist.s3-website.eu-central-1.amazonaws.com/train-images-idx3-ubyte.gz to ./data/FashionMNIST/raw/train-images-idx3-ubyte.gz\n"
          ]
        },
        {
          "output_type": "stream",
          "name": "stderr",
          "text": [
            "100%|██████████| 26421880/26421880 [00:14<00:00, 1874984.36it/s]\n"
          ]
        },
        {
          "output_type": "stream",
          "name": "stdout",
          "text": [
            "Extracting ./data/FashionMNIST/raw/train-images-idx3-ubyte.gz to ./data/FashionMNIST/raw\n",
            "\n",
            "Downloading http://fashion-mnist.s3-website.eu-central-1.amazonaws.com/train-labels-idx1-ubyte.gz\n",
            "Downloading http://fashion-mnist.s3-website.eu-central-1.amazonaws.com/train-labels-idx1-ubyte.gz to ./data/FashionMNIST/raw/train-labels-idx1-ubyte.gz\n"
          ]
        },
        {
          "output_type": "stream",
          "name": "stderr",
          "text": [
            "100%|██████████| 29515/29515 [00:00<00:00, 66546.08it/s]\n"
          ]
        },
        {
          "output_type": "stream",
          "name": "stdout",
          "text": [
            "Extracting ./data/FashionMNIST/raw/train-labels-idx1-ubyte.gz to ./data/FashionMNIST/raw\n",
            "\n",
            "Downloading http://fashion-mnist.s3-website.eu-central-1.amazonaws.com/t10k-images-idx3-ubyte.gz\n",
            "Downloading http://fashion-mnist.s3-website.eu-central-1.amazonaws.com/t10k-images-idx3-ubyte.gz to ./data/FashionMNIST/raw/t10k-images-idx3-ubyte.gz\n"
          ]
        },
        {
          "output_type": "stream",
          "name": "stderr",
          "text": [
            "100%|██████████| 4422102/4422102 [00:01<00:00, 2425776.84it/s]\n"
          ]
        },
        {
          "output_type": "stream",
          "name": "stdout",
          "text": [
            "Extracting ./data/FashionMNIST/raw/t10k-images-idx3-ubyte.gz to ./data/FashionMNIST/raw\n",
            "\n",
            "Downloading http://fashion-mnist.s3-website.eu-central-1.amazonaws.com/t10k-labels-idx1-ubyte.gz\n",
            "Downloading http://fashion-mnist.s3-website.eu-central-1.amazonaws.com/t10k-labels-idx1-ubyte.gz to ./data/FashionMNIST/raw/t10k-labels-idx1-ubyte.gz\n"
          ]
        },
        {
          "output_type": "stream",
          "name": "stderr",
          "text": [
            "100%|██████████| 5148/5148 [00:00<00:00, 16660707.56it/s]"
          ]
        },
        {
          "output_type": "stream",
          "name": "stdout",
          "text": [
            "Extracting ./data/FashionMNIST/raw/t10k-labels-idx1-ubyte.gz to ./data/FashionMNIST/raw\n",
            "\n"
          ]
        },
        {
          "output_type": "stream",
          "name": "stderr",
          "text": [
            "\n"
          ]
        }
      ]
    },
    {
      "cell_type": "code",
      "source": [
        "# Get the number of classes\n",
        "classes = train_data.classes\n",
        "num_classes = len(train_data.classes)\n"
      ],
      "metadata": {
        "id": "Y2rLB8-tUQ54"
      },
      "execution_count": 3,
      "outputs": []
    },
    {
      "cell_type": "code",
      "source": [
        "# Define some relevant variables\n",
        "num_input_channels = 1\n",
        "num_output_channels = 16\n",
        "image_size = train_data[0][0].shape[1]\n"
      ],
      "metadata": {
        "id": "nTYF5pb3UTPu"
      },
      "execution_count": 4,
      "outputs": []
    },
    {
      "cell_type": "code",
      "source": [
        "# Define CNN\n",
        "class MultiClassImageClassifier(nn.Module):\n",
        "\n",
        "    # Define the init method\n",
        "    def __init__(self, num_classes):\n",
        "        super(MultiClassImageClassifier, self).__init__()\n",
        "        self.conv1 = nn.Conv2d(num_input_channels, num_output_channels, kernel_size=3, stride=1, padding=1)\n",
        "        self.relu = nn.ReLU()\n",
        "        self.maxpool = nn.MaxPool2d(kernel_size=2, stride=2)\n",
        "        self.flatten = nn.Flatten()\n",
        "\n",
        "        # Create a fully connected layer\n",
        "        self.fc = nn.Linear(num_output_channels * (image_size//2)**2, num_classes)\n",
        "\n",
        "    def forward(self, x):\n",
        "        # Pass inputs through each layer\n",
        "        x = self.conv1(x)\n",
        "        x = self.relu(x)\n",
        "        x = self.maxpool(x)\n",
        "        x = self.flatten(x)\n",
        "        x = self.fc(x)\n",
        "        return x\n",
        "\n",
        "# Define the training set DataLoader\n",
        "dataloader_train = DataLoader(\n",
        "    train_data,\n",
        "    batch_size=10,\n",
        "    shuffle=True,\n",
        ")\n",
        "\n",
        "# Define training function\n",
        "def train_model(optimizer, net, num_epochs):\n",
        "    num_processed = 0\n",
        "    criterion = nn.CrossEntropyLoss()\n",
        "    for epoch in range(num_epochs):\n",
        "        running_loss = 0\n",
        "        num_processed = 0\n",
        "        for features, labels in dataloader_train:\n",
        "            optimizer.zero_grad()\n",
        "            outputs = net(features)\n",
        "            loss = criterion(outputs, labels)\n",
        "            loss.backward()\n",
        "            optimizer.step()\n",
        "            running_loss += loss.item()\n",
        "            num_processed += len(labels)\n",
        "        print(f'epoch {epoch}, loss: {running_loss / num_processed}')\n",
        "\n",
        "    train_loss = running_loss / len(dataloader_train)\n",
        "\n",
        "\n",
        "# Train for 1 epoch\n",
        "net = MultiClassImageClassifier(num_classes)\n",
        "optimizer = optim.Adam(net.parameters(), lr=0.001)\n",
        "\n",
        "train_model(\n",
        "    optimizer=optimizer,\n",
        "    net=net,\n",
        "    num_epochs=1,\n",
        ")\n",
        "\n",
        "# Test the model on the test set\n",
        "\n",
        "# Define the test set DataLoader\n",
        "dataloader_test = DataLoader(\n",
        "    test_data,\n",
        "    batch_size=10,\n",
        "    shuffle=False,\n",
        ")\n",
        "# Define the metrics\n",
        "accuracy_metric = Accuracy(task='multiclass', num_classes=num_classes)\n",
        "precision_metric = Precision(task='multiclass', num_classes=num_classes, average=None)\n",
        "recall_metric = Recall(task='multiclass', num_classes=num_classes, average=None)\n",
        "\n",
        "# Run model on test set\n",
        "net.eval()\n",
        "predicted = []\n",
        "for i, (features, labels) in enumerate(dataloader_test):\n",
        "    output = net.forward(features.reshape(-1, 1, image_size, image_size))\n",
        "    cat = torch.argmax(output, dim=-1)\n",
        "    predicted.extend(cat.tolist())\n",
        "    accuracy_metric(cat, labels)\n",
        "    precision_metric(cat, labels)\n",
        "    recall_metric(cat, labels)\n"
      ],
      "metadata": {
        "colab": {
          "base_uri": "https://localhost:8080/"
        },
        "id": "4UKFB3Q7UetH",
        "outputId": "8f515ac3-a8a3-4387-94de-50403fdf8602"
      },
      "execution_count": 5,
      "outputs": [
        {
          "output_type": "stream",
          "name": "stdout",
          "text": [
            "epoch 0, loss: 0.04049486342696473\n"
          ]
        }
      ]
    },
    {
      "cell_type": "code",
      "source": [
        "# Compute the metrics\n",
        "accuracy = accuracy_metric.compute().item()\n",
        "precision = precision_metric.compute().tolist()\n",
        "recall = recall_metric.compute().tolist()\n",
        "print('Accuracy:', accuracy)\n",
        "print('Precision (per class):', precision)\n",
        "print('Recall (per class):', recall)"
      ],
      "metadata": {
        "colab": {
          "base_uri": "https://localhost:8080/"
        },
        "id": "Q6re-ZueUsLD",
        "outputId": "02503e64-2e7d-43b0-a241-81489e081d88"
      },
      "execution_count": 6,
      "outputs": [
        {
          "output_type": "stream",
          "name": "stdout",
          "text": [
            "Accuracy: 0.863099992275238\n",
            "Precision (per class): [0.8481953144073486, 0.983690083026886, 0.6321839094161987, 0.8373161554336548, 0.8767550587654114, 0.9825640916824341, 0.7136150002479553, 0.9164319038391113, 0.9663366079330444, 0.9731127023696899]\n",
            "Recall (per class): [0.7990000247955322, 0.9649999737739563, 0.9350000023841858, 0.9110000133514404, 0.5619999766349792, 0.9580000042915344, 0.6079999804496765, 0.9760000109672546, 0.9760000109672546, 0.9409999847412109]\n"
          ]
        }
      ]
    }
  ]
}